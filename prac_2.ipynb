{
 "cells": [
  {
   "cell_type": "code",
   "execution_count": 11,
   "metadata": {},
   "outputs": [],
   "source": [
    "import requests\n",
    "import csv\n",
    "import re"
   ]
  },
  {
   "cell_type": "code",
   "execution_count": 12,
   "metadata": {},
   "outputs": [],
   "source": [
    "# Define the GitHub API endpoint\n",
    "api_endpoint = \"https://api.github.com/repos/{owner}/{repo}/contents\"\n",
    "\n",
    "# Replace the placeholders with your own values\n",
    "repos = [\n",
    "    {\"owner\": \"tensorflow\", \"repo\": \"tensorflow\"},\n",
    "    {\"owner\": \"apache\", \"repo\": \"spark\"},\n",
    "    {\"owner\": \"pandas-dev\", \"repo\": \"pandas\"},\n",
    "]\n",
    "\n",
    "# Define the categories and their regular expressions\n",
    "categories = {\n",
    "    \"data preprocessing\": r\"import pandas|from pandas\",\n",
    "    \"machine learning\": r\"import tensorflow|from tensorflow|import sklearn|from sklearn\",\n",
    "    \"data visualization\": r\"import matplotlib|from matplotlib|import seaborn|from seaborn\",\n",
    "}\n",
    "\n",
    "# Set up the request headers\n",
    "headers = {\"User-Agent\": \"Mozilla/5.0\"}"
   ]
  },
  {
   "cell_type": "code",
   "execution_count": 13,
   "metadata": {},
   "outputs": [],
   "source": [
    "\n",
    "\n",
    "# Initialize the data list\n",
    "data = []\n",
    "\n",
    "# Retrieve the code from each repository\n",
    "for repo in repos:\n",
    "    url = api_endpoint.format(**repo)\n",
    "    response = requests.get(url, headers=headers)\n",
    "    if response.status_code == 200:\n",
    "        files = response.json()\n",
    "        for file in files:\n",
    "            if file[\"type\"] == \".py\":\n",
    "                # Classify the code based on its category\n",
    "                code_url = file[\"download_url\"]\n",
    "                response = requests.get(code_url, headers=headers)\n",
    "                if response.status_code == 200:\n",
    "                    code = response.text\n",
    "                    for category, pattern in categories.items():\n",
    "                        if re.search(pattern, code):\n",
    "                            data.append({\"category\": category, \"code\": code})\n",
    "                            break\n"
   ]
  },
  {
   "cell_type": "code",
   "execution_count": 14,
   "metadata": {},
   "outputs": [],
   "source": [
    "# Write the data to a CSV file\n",
    "with open(\"code_data.csv\", \"w\", newline=\"\", encoding=\"utf-8\") as file:\n",
    "    writer = csv.DictWriter(file, fieldnames=[\"category\", \"code\"])\n",
    "    writer.writeheader()\n",
    "    for row in data:\n",
    "        writer.writerow(row)"
   ]
  }
 ],
 "metadata": {
  "kernelspec": {
   "display_name": "base",
   "language": "python",
   "name": "python3"
  },
  "language_info": {
   "codemirror_mode": {
    "name": "ipython",
    "version": 3
   },
   "file_extension": ".py",
   "mimetype": "text/x-python",
   "name": "python",
   "nbconvert_exporter": "python",
   "pygments_lexer": "ipython3",
   "version": "3.9.13"
  },
  "orig_nbformat": 4
 },
 "nbformat": 4,
 "nbformat_minor": 2
}
