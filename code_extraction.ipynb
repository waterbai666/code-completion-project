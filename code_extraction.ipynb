{
 "cells": [
  {
   "cell_type": "code",
   "execution_count": 13,
   "metadata": {},
   "outputs": [],
   "source": [
    "import os\n",
    "import csv"
   ]
  },
  {
   "cell_type": "code",
   "execution_count": 14,
   "metadata": {},
   "outputs": [],
   "source": [
    "# Define the projects and their paths\n",
    "\n",
    "#Get code from top 5 popular python libraies \n",
    "lib_projects = {\n",
    "    'pandas': '../pandas',\n",
    "    'tensorflow': '../tensorflow',\n",
    "    'scikit-learn': '../scikit-learn',\n",
    "    'numpy': '../numpy',\n",
    "    'scipy': '../scipy'\n",
    "}\n",
    "#Get code from top 10+ trending data science libraies \n",
    "#https://towardsdatascience.com/top-10-trending-data-science-projects-on-github-ec1d4d4119f\n",
    "ds_projects = {\n",
    "    'Albert': '../albert_zh-master',\n",
    "    'Tiler': '../tiler-master',\n",
    "    'PLMpapers': '../PLMpapers-master',\n",
    "    'InLong(TubeMQ)': '../inlong-master',\n",
    "    'DeepPrivacy': '../DeepPrivacy-master',\n",
    "    'DeepCTR': '../DeepCTR-master',\n",
    "    'Kaggle Projects': '../Data-Science-Projects-master',\n",
    "    'StringSifter': '../stringsifter-master',\n",
    "    'Text Analysis of the Mexican Government Report': '../mexican-government-report-master',\n",
    "}\n",
    "\n",
    "# Define the CSV file header\n",
    "header = ['project', 'filename', 'code']\n",
    "\n",
    "# Initialize a list to store the raw data\n",
    "raw_data = []\n",
    "\n",
    "# Initialize a list to store the raw data\n",
    "ds_raw_data = []"
   ]
  },
  {
   "cell_type": "code",
   "execution_count": 15,
   "metadata": {},
   "outputs": [],
   "source": [
    "# Traverse each project directory and extract the raw data\n",
    "for project, path in lib_projects.items():\n",
    "    for root, dirs, files in os.walk(path):\n",
    "        for filename in files:\n",
    "            # Check if the file is a Python file\n",
    "            if filename.endswith('.py') or filename.endswith('.ipynb'):\n",
    "                # Open the file and read its content\n",
    "                filepath = os.path.join(root, filename)\n",
    "                with open(filepath, 'r') as f:\n",
    "                    content = f.read()\n",
    "                    # Append the content to the list of raw data\n",
    "                    raw_data.append([project, filename, content])\n",
    "\n",
    "\n",
    "# Traverse each project directory and extract the raw data\n",
    "for project, path in ds_projects.items():\n",
    "    for root, dirs, files in os.walk(path):\n",
    "        for filename in files:\n",
    "            # Check if the file is a Python file\n",
    "            if filename.endswith('.py') or filename.endswith('.ipynb'):\n",
    "                # Open the file and read its content\n",
    "                filepath = os.path.join(root, filename)\n",
    "                with open(filepath, 'r') as f:\n",
    "                    content = f.read()\n",
    "                    # Append the content to the list of raw data\n",
    "                    ds_raw_data.append([project, filename, content])\n"
   ]
  },
  {
   "cell_type": "code",
   "execution_count": 16,
   "metadata": {},
   "outputs": [],
   "source": [
    "\n",
    "# Write the data science library raw data to a CSV file\n",
    "with open('ds_lib_raw_data.csv', 'w', newline='', encoding='utf-8') as f:\n",
    "    writer = csv.writer(f)\n",
    "    writer.writerow(header)\n",
    "    writer.writerows(raw_data)\n",
    "\n",
    "# Write the data science project raw data to a CSV file\n",
    "with open('ds_projects_raw_data.csv', 'w', newline='', encoding='utf-8') as f:\n",
    "    writer = csv.writer(f)\n",
    "    writer.writerow(header)\n",
    "    writer.writerows(ds_raw_data)"
   ]
  }
 ],
 "metadata": {
  "kernelspec": {
   "display_name": "base",
   "language": "python",
   "name": "python3"
  },
  "language_info": {
   "codemirror_mode": {
    "name": "ipython",
    "version": 3
   },
   "file_extension": ".py",
   "mimetype": "text/x-python",
   "name": "python",
   "nbconvert_exporter": "python",
   "pygments_lexer": "ipython3",
   "version": "3.9.13"
  },
  "orig_nbformat": 4
 },
 "nbformat": 4,
 "nbformat_minor": 2
}
