{
 "cells": [
  {
   "cell_type": "code",
   "execution_count": 7,
   "metadata": {},
   "outputs": [],
   "source": [
    "#Get code from top 5 popular python libraies \n",
    "import os\n",
    "import csv"
   ]
  },
  {
   "cell_type": "code",
   "execution_count": null,
   "metadata": {},
   "outputs": [],
   "source": [
    "# Define the projects and their paths\n",
    "projects = {\n",
    "    'pandas': '../pandas',\n",
    "    'tensorflow': '../tensorflow',\n",
    "    'scikit-learn': '../scikit-learn',\n",
    "    'numpy': '../numpy',\n",
    "    'scipy': '../scipy'\n",
    "}\n",
    "\n",
    "# Define the CSV file header\n",
    "header = ['project', 'filename', 'code']\n",
    "\n",
    "# Initialize a list to store the raw data\n",
    "raw_data = []"
   ]
  },
  {
   "cell_type": "code",
   "execution_count": null,
   "metadata": {},
   "outputs": [],
   "source": [
    "# Traverse each project directory and extract the raw data\n",
    "for project, path in projects.items():\n",
    "    for root, dirs, files in os.walk(path):\n",
    "        for filename in files:\n",
    "            # Check if the file is a Python file\n",
    "            if filename.endswith('.py') or filename.endswith('.ipynb'):\n",
    "                # Open the file and read its content\n",
    "                filepath = os.path.join(root, filename)\n",
    "                with open(filepath, 'r') as f:\n",
    "                    content = f.read()\n",
    "                    # Append the content to the list of raw data\n",
    "                    raw_data.append([project, filename, content])\n"
   ]
  },
  {
   "cell_type": "code",
   "execution_count": null,
   "metadata": {},
   "outputs": [],
   "source": [
    "\n",
    "# Write the raw data to a CSV file\n",
    "with open('ds_lib_raw_data.csv', 'w', newline='', encoding='utf-8') as f:\n",
    "    writer = csv.writer(f)\n",
    "    writer.writerow(header)\n",
    "    writer.writerows(raw_data)"
   ]
  }
 ],
 "metadata": {
  "kernelspec": {
   "display_name": "base",
   "language": "python",
   "name": "python3"
  },
  "language_info": {
   "codemirror_mode": {
    "name": "ipython",
    "version": 3
   },
   "file_extension": ".py",
   "mimetype": "text/x-python",
   "name": "python",
   "nbconvert_exporter": "python",
   "pygments_lexer": "ipython3",
   "version": "3.9.13"
  },
  "orig_nbformat": 4
 },
 "nbformat": 4,
 "nbformat_minor": 2
}
